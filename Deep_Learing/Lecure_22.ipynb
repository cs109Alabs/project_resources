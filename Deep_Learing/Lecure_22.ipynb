{
 "cells": [
  {
   "cell_type": "code",
   "execution_count": null,
   "metadata": {
    "collapsed": false
   },
   "outputs": [],
   "source": []
  },
  {
   "cell_type": "code",
   "execution_count": 3,
   "metadata": {
    "collapsed": false
   },
   "outputs": [
    {
     "ename": "ImportError",
     "evalue": "cannot import name backend",
     "output_type": "error",
     "traceback": [
      "\u001b[0;31m---------------------------------------------------------------------------\u001b[0m",
      "\u001b[0;31mImportError\u001b[0m                               Traceback (most recent call last)",
      "\u001b[0;32m<ipython-input-3-5307de9af2f0>\u001b[0m in \u001b[0;36m<module>\u001b[0;34m()\u001b[0m\n\u001b[0;32m----> 1\u001b[0;31m \u001b[1;32mimport\u001b[0m \u001b[0mkeras\u001b[0m\u001b[1;33m\u001b[0m\u001b[0m\n\u001b[0m\u001b[1;32m      2\u001b[0m \u001b[1;32mfrom\u001b[0m \u001b[0mkeras\u001b[0m\u001b[1;33m.\u001b[0m\u001b[0mdatasets\u001b[0m \u001b[1;32mimport\u001b[0m \u001b[0mmnist\u001b[0m\u001b[1;33m\u001b[0m\u001b[0m\n\u001b[1;32m      3\u001b[0m \u001b[1;32mimport\u001b[0m \u001b[0mmatplotlib\u001b[0m\u001b[1;33m.\u001b[0m\u001b[0mpyplot\u001b[0m \u001b[1;32mas\u001b[0m \u001b[0mplt\u001b[0m\u001b[1;33m\u001b[0m\u001b[0m\n\u001b[1;32m      4\u001b[0m \u001b[1;33m\u001b[0m\u001b[0m\n\u001b[1;32m      5\u001b[0m \u001b[1;31m#import os\u001b[0m\u001b[1;33m\u001b[0m\u001b[1;33m\u001b[0m\u001b[0m\n",
      "\u001b[0;32mC:\\Users\\mamro\\Anaconda2\\lib\\site-packages\\keras\\__init__.py\u001b[0m in \u001b[0;36m<module>\u001b[0;34m()\u001b[0m\n\u001b[1;32m      1\u001b[0m \u001b[1;32mfrom\u001b[0m \u001b[0m__future__\u001b[0m \u001b[1;32mimport\u001b[0m \u001b[0mabsolute_import\u001b[0m\u001b[1;33m\u001b[0m\u001b[0m\n\u001b[0;32m----> 2\u001b[0;31m \u001b[1;32mfrom\u001b[0m \u001b[1;33m.\u001b[0m \u001b[1;32mimport\u001b[0m \u001b[0mbackend\u001b[0m\u001b[1;33m\u001b[0m\u001b[0m\n\u001b[0m\u001b[1;32m      3\u001b[0m \u001b[1;32mfrom\u001b[0m \u001b[1;33m.\u001b[0m \u001b[1;32mimport\u001b[0m \u001b[0mdatasets\u001b[0m\u001b[1;33m\u001b[0m\u001b[0m\n\u001b[1;32m      4\u001b[0m \u001b[1;32mfrom\u001b[0m \u001b[1;33m.\u001b[0m \u001b[1;32mimport\u001b[0m \u001b[0mengine\u001b[0m\u001b[1;33m\u001b[0m\u001b[0m\n\u001b[1;32m      5\u001b[0m \u001b[1;32mfrom\u001b[0m \u001b[1;33m.\u001b[0m \u001b[1;32mimport\u001b[0m \u001b[0mlayers\u001b[0m\u001b[1;33m\u001b[0m\u001b[0m\n",
      "\u001b[0;31mImportError\u001b[0m: cannot import name backend"
     ]
    }
   ],
   "source": [
    "import keras\n",
    "from keras.datasets import mnist\n",
    "import matplotlib.pyplot as plt\n",
    "\n",
    "#import os    \n",
    "#s.environ['THEANO_FLAGS'] = \"device=gpu1\"    \n",
    "#import theano\n",
    "#heano.config.device = 'gpu1'\n",
    "#heano.config.floatx = 'float32'"
   ]
  },
  {
   "cell_type": "code",
   "execution_count": 16,
   "metadata": {
    "collapsed": false
   },
   "outputs": [],
   "source": [
    "#import theano\n"
   ]
  },
  {
   "cell_type": "code",
   "execution_count": 17,
   "metadata": {
    "collapsed": false
   },
   "outputs": [
    {
     "data": {
      "image/png": "[encoded data removed]",
      "text/plain": [
       "<matplotlib.figure.Figure at 0x2df0104c630>"
      ]
     },
     "metadata": {},
     "output_type": "display_data"
    }
   ],
   "source": [
    "(X_train, y_train), (X_test, y_test) = mnist.load_data()\n",
    "plt.imshow(X_train[0], cmap=plt.get_cmap('gray'))\n",
    "plt.show()"
   ]
  },
  {
   "cell_type": "code",
   "execution_count": 4,
   "metadata": {
    "collapsed": true
   },
   "outputs": [],
   "source": [
    "X_train = X_train.reshape(60000,784).astype('float32')\n",
    "X_test = X_test.reshape(10000,784).astype('float32')\n"
   ]
  },
  {
   "cell_type": "code",
   "execution_count": 5,
   "metadata": {
    "collapsed": true
   },
   "outputs": [],
   "source": [
    "X_train = X_train / 255\n",
    "X_test = X_test / 255\n"
   ]
  },
  {
   "cell_type": "code",
   "execution_count": 6,
   "metadata": {
    "collapsed": true
   },
   "outputs": [],
   "source": [
    "from keras.utils import np_utils\n",
    "y_train = np_utils.to_categorical(y_train)\n",
    "y_test = np_utils.to_categorical(y_test)\n"
   ]
  },
  {
   "cell_type": "code",
   "execution_count": 7,
   "metadata": {
    "collapsed": true
   },
   "outputs": [],
   "source": [
    "from keras.models import Sequential\n",
    "from keras.layers import Dense\n",
    "model = Sequential()\n",
    "model.add(Dense(10, input_dim=784, init='normal', activation='softmax'))\n"
   ]
  },
  {
   "cell_type": "code",
   "execution_count": 8,
   "metadata": {
    "collapsed": true
   },
   "outputs": [],
   "source": [
    "model.compile(loss='categorical_crossentropy', optimizer='adam', metrics=['accuracy'])\n"
   ]
  },
  {
   "cell_type": "code",
   "execution_count": 9,
   "metadata": {
    "collapsed": false
   },
   "outputs": [
    {
     "name": "stdout",
     "output_type": "stream",
     "text": [
      "Train on 60000 samples, validate on 10000 samples\n",
      "Epoch 1/20\n",
      "3s - loss: 0.6138 - acc: 0.8492 - val_loss: 0.3631 - val_acc: 0.9031\n",
      "Epoch 2/20\n",
      "2s - loss: 0.3449 - acc: 0.9063 - val_loss: 0.3081 - val_acc: 0.9133\n",
      "Epoch 3/20\n",
      "2s - loss: 0.3090 - acc: 0.9144 - val_loss: 0.2914 - val_acc: 0.9178\n",
      "Epoch 4/20\n",
      "2s - loss: 0.2919 - acc: 0.9184 - val_loss: 0.2804 - val_acc: 0.9232\n",
      "Epoch 5/20\n",
      "2s - loss: 0.2819 - acc: 0.9214 - val_loss: 0.2732 - val_acc: 0.9248\n",
      "Epoch 6/20\n",
      "2s - loss: 0.2745 - acc: 0.9232 - val_loss: 0.2742 - val_acc: 0.9229\n",
      "Epoch 7/20\n",
      "2s - loss: 0.2693 - acc: 0.9249 - val_loss: 0.2705 - val_acc: 0.9249\n",
      "Epoch 8/20\n",
      "2s - loss: 0.2651 - acc: 0.9263 - val_loss: 0.2660 - val_acc: 0.9273\n",
      "Epoch 9/20\n",
      "2s - loss: 0.2622 - acc: 0.9269 - val_loss: 0.2645 - val_acc: 0.9266\n",
      "Epoch 10/20\n",
      "2s - loss: 0.2592 - acc: 0.9276 - val_loss: 0.2659 - val_acc: 0.9259\n",
      "Epoch 11/20\n",
      "2s - loss: 0.2566 - acc: 0.9283 - val_loss: 0.2656 - val_acc: 0.9259\n",
      "Epoch 12/20\n",
      "2s - loss: 0.2545 - acc: 0.9293 - val_loss: 0.2649 - val_acc: 0.9264\n",
      "Epoch 13/20\n",
      "2s - loss: 0.2526 - acc: 0.9301 - val_loss: 0.2647 - val_acc: 0.9261\n",
      "Epoch 14/20\n",
      "2s - loss: 0.2510 - acc: 0.9303 - val_loss: 0.2640 - val_acc: 0.9265\n",
      "Epoch 15/20\n",
      "2s - loss: 0.2497 - acc: 0.9309 - val_loss: 0.2647 - val_acc: 0.9276\n",
      "Epoch 16/20\n",
      "2s - loss: 0.2484 - acc: 0.9313 - val_loss: 0.2646 - val_acc: 0.9267\n",
      "Epoch 17/20\n",
      "2s - loss: 0.2470 - acc: 0.9317 - val_loss: 0.2633 - val_acc: 0.9272\n",
      "Epoch 18/20\n",
      "2s - loss: 0.2462 - acc: 0.9318 - val_loss: 0.2651 - val_acc: 0.9268\n",
      "Epoch 19/20\n",
      "2s - loss: 0.2447 - acc: 0.9326 - val_loss: 0.2642 - val_acc: 0.9262\n",
      "Epoch 20/20\n",
      "2s - loss: 0.2437 - acc: 0.9325 - val_loss: 0.2622 - val_acc: 0.9286\n"
     ]
    },
    {
     "data": {
      "text/plain": [
       "<keras.callbacks.History at 0x2df00fba940>"
      ]
     },
     "execution_count": 9,
     "metadata": {},
     "output_type": "execute_result"
    }
   ],
   "source": [
    "model.fit(X_train, y_train, validation_data=(X_test, y_test), nb_epoch=20, batch_size=100, verbose=2)\n"
   ]
  },
  {
   "cell_type": "code",
   "execution_count": 10,
   "metadata": {
    "collapsed": false
   },
   "outputs": [
    {
     "name": "stdout",
     "output_type": "stream",
     "text": [
      " 9920/10000 [============================>.] - ETA: 0s"
     ]
    },
    {
     "data": {
      "text/plain": [
       "0.92859999999999998"
      ]
     },
     "execution_count": 10,
     "metadata": {},
     "output_type": "execute_result"
    }
   ],
   "source": [
    "scores = model.evaluate(X_test, y_test)\n",
    "scores[1]\n"
   ]
  },
  {
   "cell_type": "code",
   "execution_count": 11,
   "metadata": {
    "collapsed": false
   },
   "outputs": [
    {
     "name": "stdout",
     "output_type": "stream",
     "text": [
      "Train on 60000 samples, validate on 10000 samples\n",
      "Epoch 1/20\n",
      "6s - loss: 0.2056 - acc: 0.9392 - val_loss: 0.1098 - val_acc: 0.9659\n",
      "Epoch 2/20\n",
      "6s - loss: 0.0795 - acc: 0.9759 - val_loss: 0.0812 - val_acc: 0.9742\n",
      "Epoch 3/20\n",
      "6s - loss: 0.0501 - acc: 0.9848 - val_loss: 0.0705 - val_acc: 0.9773\n",
      "Epoch 4/20\n",
      "6s - loss: 0.0349 - acc: 0.9892 - val_loss: 0.0745 - val_acc: 0.9761\n",
      "Epoch 5/20\n",
      "6s - loss: 0.0250 - acc: 0.9918 - val_loss: 0.0681 - val_acc: 0.9802\n",
      "Epoch 6/20\n",
      "6s - loss: 0.0193 - acc: 0.9939 - val_loss: 0.0693 - val_acc: 0.9803\n",
      "Epoch 7/20\n",
      "6s - loss: 0.0148 - acc: 0.9953 - val_loss: 0.0705 - val_acc: 0.9804\n",
      "Epoch 8/20\n",
      "6s - loss: 0.0131 - acc: 0.9959 - val_loss: 0.0757 - val_acc: 0.9803\n",
      "Epoch 9/20\n",
      "6s - loss: 0.0102 - acc: 0.9969 - val_loss: 0.0836 - val_acc: 0.9788\n",
      "Epoch 10/20\n",
      "6s - loss: 0.0102 - acc: 0.9969 - val_loss: 0.0885 - val_acc: 0.9794\n",
      "Epoch 11/20\n",
      "6s - loss: 0.0097 - acc: 0.9968 - val_loss: 0.0856 - val_acc: 0.9807\n",
      "Epoch 12/20\n",
      "6s - loss: 0.0088 - acc: 0.9970 - val_loss: 0.0994 - val_acc: 0.9792\n",
      "Epoch 13/20\n",
      "6s - loss: 0.0074 - acc: 0.9978 - val_loss: 0.0754 - val_acc: 0.9834\n",
      "Epoch 14/20\n",
      "6s - loss: 0.0089 - acc: 0.9970 - val_loss: 0.0832 - val_acc: 0.9808\n",
      "Epoch 15/20\n",
      "6s - loss: 0.0041 - acc: 0.9989 - val_loss: 0.0843 - val_acc: 0.9818\n",
      "Epoch 16/20\n",
      "6s - loss: 0.0077 - acc: 0.9975 - val_loss: 0.0959 - val_acc: 0.9820\n",
      "Epoch 17/20\n",
      "6s - loss: 0.0046 - acc: 0.9986 - val_loss: 0.0872 - val_acc: 0.9822\n",
      "Epoch 18/20\n",
      "6s - loss: 0.0071 - acc: 0.9976 - val_loss: 0.1047 - val_acc: 0.9809\n",
      "Epoch 19/20\n",
      "6s - loss: 0.0049 - acc: 0.9983 - val_loss: 0.1059 - val_acc: 0.9811\n",
      "Epoch 20/20\n",
      "6s - loss: 0.0072 - acc: 0.9980 - val_loss: 0.1121 - val_acc: 0.9800\n",
      "10000/10000 [==============================] - 0s     \n"
     ]
    },
    {
     "data": {
      "text/plain": [
       "0.97999999999999998"
      ]
     },
     "execution_count": 11,
     "metadata": {},
     "output_type": "execute_result"
    }
   ],
   "source": [
    "model = Sequential()\n",
    "model.add(Dense(784, input_dim=784, init='normal', activation='relu'))\n",
    "model.add(Dense(10, init='normal', activation='softmax'))\n",
    "model.compile(loss='categorical_crossentropy', optimizer='adam', metrics=['accuracy'])\n",
    "\n",
    "model.fit(X_train, y_train, validation_data=(X_test, y_test), nb_epoch=20, batch_size=50, verbose=2)\n",
    "\n",
    "scores = model.evaluate(X_test, y_test)\n",
    "scores[1]"
   ]
  },
  {
   "cell_type": "code",
   "execution_count": 14,
   "metadata": {
    "collapsed": false
   },
   "outputs": [
    {
     "name": "stdout",
     "output_type": "stream",
     "text": [
      "Train on 60000 samples, validate on 10000 samples\n",
      "Epoch 1/20\n",
      "9s - loss: 0.1772 - acc: 0.9458 - val_loss: 0.0944 - val_acc: 0.9723\n",
      "Epoch 2/20\n",
      "9s - loss: 0.0748 - acc: 0.9774 - val_loss: 0.0737 - val_acc: 0.9761\n",
      "Epoch 3/20\n",
      "9s - loss: 0.0533 - acc: 0.9829 - val_loss: 0.0893 - val_acc: 0.9743\n",
      "Epoch 4/20\n",
      "9s - loss: 0.0405 - acc: 0.9871 - val_loss: 0.0777 - val_acc: 0.9789\n",
      "Epoch 5/20\n",
      "9s - loss: 0.0335 - acc: 0.9894 - val_loss: 0.0966 - val_acc: 0.9744\n",
      "Epoch 6/20\n",
      "9s - loss: 0.0291 - acc: 0.9905 - val_loss: 0.1128 - val_acc: 0.9738\n",
      "Epoch 7/20\n",
      "9s - loss: 0.0286 - acc: 0.9916 - val_loss: 0.0850 - val_acc: 0.9807\n",
      "Epoch 8/20\n",
      "9s - loss: 0.0196 - acc: 0.9939 - val_loss: 0.0979 - val_acc: 0.9785\n",
      "Epoch 9/20\n",
      "9s - loss: 0.0252 - acc: 0.9926 - val_loss: 0.1059 - val_acc: 0.9763\n",
      "Epoch 10/20\n",
      "9s - loss: 0.0192 - acc: 0.9942 - val_loss: 0.1179 - val_acc: 0.9769\n",
      "Epoch 11/20\n",
      "9s - loss: 0.0161 - acc: 0.9948 - val_loss: 0.1325 - val_acc: 0.9782\n",
      "Epoch 12/20\n",
      "9s - loss: 0.0175 - acc: 0.9950 - val_loss: 0.1089 - val_acc: 0.9796\n",
      "Epoch 13/20\n",
      "9s - loss: 0.0178 - acc: 0.9952 - val_loss: 0.1066 - val_acc: 0.9811\n",
      "Epoch 14/20\n",
      "9s - loss: 0.0160 - acc: 0.9954 - val_loss: 0.1187 - val_acc: 0.9806\n",
      "Epoch 15/20\n",
      "9s - loss: 0.0182 - acc: 0.9948 - val_loss: 0.1064 - val_acc: 0.9816\n",
      "Epoch 16/20\n",
      "9s - loss: 0.0162 - acc: 0.9956 - val_loss: 0.1139 - val_acc: 0.9808\n",
      "Epoch 17/20\n",
      "9s - loss: 0.0145 - acc: 0.9962 - val_loss: 0.1325 - val_acc: 0.9805\n",
      "Epoch 18/20\n",
      "9s - loss: 0.0170 - acc: 0.9958 - val_loss: 0.1265 - val_acc: 0.9805\n",
      "Epoch 19/20\n",
      "9s - loss: 0.0111 - acc: 0.9971 - val_loss: 0.1224 - val_acc: 0.9815\n",
      "Epoch 20/20\n",
      "9s - loss: 0.0123 - acc: 0.9971 - val_loss: 0.1141 - val_acc: 0.9828\n",
      " 9856/10000 [============================>.] - ETA: 0s"
     ]
    },
    {
     "data": {
      "text/plain": [
       "0.98280000000000001"
      ]
     },
     "execution_count": 14,
     "metadata": {},
     "output_type": "execute_result"
    }
   ],
   "source": [
    "from keras.layers.advanced_activations import PReLU\n",
    "model = Sequential()\n",
    "model.add(Dense(784, input_dim=784, init='normal'))\n",
    "model.add(PReLU())\n",
    "model.add(Dense(784, input_dim=784, init='normal'))\n",
    "model.add(PReLU())\n",
    "model.add(Dense(10, init='normal', activation='softmax'))\n",
    "model.compile(loss='categorical_crossentropy', optimizer='adam', metrics=['accuracy'])\n",
    "model.fit(X_train, y_train, validation_data=(X_test, y_test), nb_epoch=20, batch_size=50, verbose=2)\n",
    "\n",
    "scores = model.evaluate(X_test, y_test)\n",
    "scores[1]"
   ]
  },
  {
   "cell_type": "code",
   "execution_count": null,
   "metadata": {
    "collapsed": true
   },
   "outputs": [],
   "source": []
  },
  {
   "cell_type": "code",
   "execution_count": null,
   "metadata": {
    "collapsed": true
   },
   "outputs": [],
   "source": []
  }
 ],
 "metadata": {
  "anaconda-cloud": {},
  "kernelspec": {
   "display_name": "Python [conda root]",
   "language": "python",
   "name": "conda-root-py"
  },
  "language_info": {
   "codemirror_mode": {
    "name": "ipython",
    "version": 2
   },
   "file_extension": ".py",
   "mimetype": "text/x-python",
   "name": "python",
   "nbconvert_exporter": "python",
   "pygments_lexer": "ipython2",
   "version": "2.7.12"
  }
 },
 "nbformat": 4,
 "nbformat_minor": 1
}
